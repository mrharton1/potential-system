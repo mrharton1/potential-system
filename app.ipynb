{
 "cells": [
  {
   "cell_type": "code",
   "execution_count": 1,
   "id": "3e93281e",
   "metadata": {},
   "outputs": [],
   "source": [
    "# Import the libraies\n",
    "import numpy as np\n",
    "from flask import Flask, request, render_template\n",
    "import joblib"
   ]
  },
  {
   "cell_type": "code",
   "execution_count": 2,
   "id": "d071a1e3",
   "metadata": {},
   "outputs": [
    {
     "data": {
      "text/html": [
       "<style>#sk-container-id-1 {color: black;background-color: white;}#sk-container-id-1 pre{padding: 0;}#sk-container-id-1 div.sk-toggleable {background-color: white;}#sk-container-id-1 label.sk-toggleable__label {cursor: pointer;display: block;width: 100%;margin-bottom: 0;padding: 0.3em;box-sizing: border-box;text-align: center;}#sk-container-id-1 label.sk-toggleable__label-arrow:before {content: \"▸\";float: left;margin-right: 0.25em;color: #696969;}#sk-container-id-1 label.sk-toggleable__label-arrow:hover:before {color: black;}#sk-container-id-1 div.sk-estimator:hover label.sk-toggleable__label-arrow:before {color: black;}#sk-container-id-1 div.sk-toggleable__content {max-height: 0;max-width: 0;overflow: hidden;text-align: left;background-color: #f0f8ff;}#sk-container-id-1 div.sk-toggleable__content pre {margin: 0.2em;color: black;border-radius: 0.25em;background-color: #f0f8ff;}#sk-container-id-1 input.sk-toggleable__control:checked~div.sk-toggleable__content {max-height: 200px;max-width: 100%;overflow: auto;}#sk-container-id-1 input.sk-toggleable__control:checked~label.sk-toggleable__label-arrow:before {content: \"▾\";}#sk-container-id-1 div.sk-estimator input.sk-toggleable__control:checked~label.sk-toggleable__label {background-color: #d4ebff;}#sk-container-id-1 div.sk-label input.sk-toggleable__control:checked~label.sk-toggleable__label {background-color: #d4ebff;}#sk-container-id-1 input.sk-hidden--visually {border: 0;clip: rect(1px 1px 1px 1px);clip: rect(1px, 1px, 1px, 1px);height: 1px;margin: -1px;overflow: hidden;padding: 0;position: absolute;width: 1px;}#sk-container-id-1 div.sk-estimator {font-family: monospace;background-color: #f0f8ff;border: 1px dotted black;border-radius: 0.25em;box-sizing: border-box;margin-bottom: 0.5em;}#sk-container-id-1 div.sk-estimator:hover {background-color: #d4ebff;}#sk-container-id-1 div.sk-parallel-item::after {content: \"\";width: 100%;border-bottom: 1px solid gray;flex-grow: 1;}#sk-container-id-1 div.sk-label:hover label.sk-toggleable__label {background-color: #d4ebff;}#sk-container-id-1 div.sk-serial::before {content: \"\";position: absolute;border-left: 1px solid gray;box-sizing: border-box;top: 0;bottom: 0;left: 50%;z-index: 0;}#sk-container-id-1 div.sk-serial {display: flex;flex-direction: column;align-items: center;background-color: white;padding-right: 0.2em;padding-left: 0.2em;position: relative;}#sk-container-id-1 div.sk-item {position: relative;z-index: 1;}#sk-container-id-1 div.sk-parallel {display: flex;align-items: stretch;justify-content: center;background-color: white;position: relative;}#sk-container-id-1 div.sk-item::before, #sk-container-id-1 div.sk-parallel-item::before {content: \"\";position: absolute;border-left: 1px solid gray;box-sizing: border-box;top: 0;bottom: 0;left: 50%;z-index: -1;}#sk-container-id-1 div.sk-parallel-item {display: flex;flex-direction: column;z-index: 1;position: relative;background-color: white;}#sk-container-id-1 div.sk-parallel-item:first-child::after {align-self: flex-end;width: 50%;}#sk-container-id-1 div.sk-parallel-item:last-child::after {align-self: flex-start;width: 50%;}#sk-container-id-1 div.sk-parallel-item:only-child::after {width: 0;}#sk-container-id-1 div.sk-dashed-wrapped {border: 1px dashed gray;margin: 0 0.4em 0.5em 0.4em;box-sizing: border-box;padding-bottom: 0.4em;background-color: white;}#sk-container-id-1 div.sk-label label {font-family: monospace;font-weight: bold;display: inline-block;line-height: 1.2em;}#sk-container-id-1 div.sk-label-container {text-align: center;}#sk-container-id-1 div.sk-container {/* jupyter's `normalize.less` sets `[hidden] { display: none; }` but bootstrap.min.css set `[hidden] { display: none !important; }` so we also need the `!important` here to be able to override the default hidden behavior on the sphinx rendered scikit-learn.org. See: https://github.com/scikit-learn/scikit-learn/issues/21755 */display: inline-block !important;position: relative;}#sk-container-id-1 div.sk-text-repr-fallback {display: none;}</style><div id=\"sk-container-id-1\" class=\"sk-top-container\"><div class=\"sk-text-repr-fallback\"><pre>GradientBoostingClassifier(max_depth=4, n_estimators=300, random_state=252)</pre><b>In a Jupyter environment, please rerun this cell to show the HTML representation or trust the notebook. <br />On GitHub, the HTML representation is unable to render, please try loading this page with nbviewer.org.</b></div><div class=\"sk-container\" hidden><div class=\"sk-item\"><div class=\"sk-estimator sk-toggleable\"><input class=\"sk-toggleable__control sk-hidden--visually\" id=\"sk-estimator-id-1\" type=\"checkbox\" checked><label for=\"sk-estimator-id-1\" class=\"sk-toggleable__label sk-toggleable__label-arrow\">GradientBoostingClassifier</label><div class=\"sk-toggleable__content\"><pre>GradientBoostingClassifier(max_depth=4, n_estimators=300, random_state=252)</pre></div></div></div></div></div>"
      ],
      "text/plain": [
       "GradientBoostingClassifier(max_depth=4, n_estimators=300, random_state=252)"
      ]
     },
     "execution_count": 2,
     "metadata": {},
     "output_type": "execute_result"
    }
   ],
   "source": [
    "# Create the Flask app and load the trained model\n",
    "app = Flask(__name__)\n",
    "model = joblib.load('model_clf.pkl')\n",
    "model"
   ]
  },
  {
   "cell_type": "code",
   "execution_count": 3,
   "id": "e09299cb",
   "metadata": {},
   "outputs": [],
   "source": [
    "# Define the '/' root route to display the content from index.html\n",
    "@app.route('/')\n",
    "def home():\n",
    "    return render_template('index2.html')"
   ]
  },
  {
   "cell_type": "code",
   "execution_count": 4,
   "id": "696a7bc4",
   "metadata": {},
   "outputs": [],
   "source": [
    "# Define the '/predict' route to:\n",
    "# - Get form data and convert them to float values\n",
    "# - Convert form data to numpy array\n",
    "# - Pass form data to model for prediction\n",
    "\n",
    "@app.route('/predict',methods=['POST'])\n",
    "def predict():\n",
    "\n",
    "    form_data = [float(x) for x in request.form.values()]\n",
    " \n",
    "    postal_districts = {\n",
    "    '01': 1, '02': 1, '03': 1, '04': 1, '05': 1, '06': 1,\n",
    "    '07': 2, '08': 2,\n",
    "    '14': 3, '15': 3, '16': 3,\n",
    "    '09': 4, '10': 4,\n",
    "    '11': 5, '12': 5, '13': 5,\n",
    "    '17': 6,\n",
    "    '18': 7, '19': 7,\n",
    "    '20': 8, '21': 8,\n",
    "    '22': 9, '23': 9,\n",
    "    '24': 10, '25': 10, '26': 10, '27': 10,\n",
    "    '28': 11, '29': 11, '30': 11,\n",
    "    '31': 12, '32': 12, '33': 12,\n",
    "    '34': 13, '35': 13, '36': 13, '37': 13,\n",
    "    '38': 14, '39': 14, '40': 14, '41': 14,\n",
    "    '42': 15, '43': 15, '44': 15, '45': 15,\n",
    "    '46': 16, '47': 16, '48': 16,\n",
    "    '49': 17, '50': 17, '81': 17,\n",
    "    '51': 18, '52': 18,\n",
    "    '53': 19, '54': 19, '55': 19, '82': 19,\n",
    "    '56': 20, '57': 20,\n",
    "    '58': 21, '59': 21,\n",
    "    '60': 22, '61': 22, '62': 22, '63': 22, '64': 22,\n",
    "    '65': 23, '66': 23, '67': 23, '68': 23,\n",
    "    '69': 24, '70': 24, '71': 24,\n",
    "    '72': 25, '73': 25,\n",
    "    '77': 26, '78': 26,\n",
    "    '75': 27, '76': 27,\n",
    "    '79': 28, '80': 28 }\n",
    "    postal_code_input = str(form_data[0])\n",
    "    postal_district = postal_districts.get(postal_code_input[:2])\n",
    "    postal_region = {'9':2, '10': 2, '11':2, '1':2, '2':2, '4':2,'6':2,'7':2,\n",
    "                     '3':1, '5':1,'8':1,'12':1, '13':1, '14':1 ,'15':1, '20':1,\n",
    "                     '16':0, '17':0,'18':0, '19':0, '21':0,'22':0, '23':0,'24':0, '25':0, '26':0,'27':0,'28':0}\n",
    "    form_data[0] = postal_region[str(postal_district)]  \n",
    "    \n",
    "    features = [np.array(form_data)]\n",
    "    prediction = model.predict(features)\n",
    "    \n",
    "    if prediction[0]==1:\n",
    "        rentpred = 'Yes, this is a reasonable price! (below median market rate)'\n",
    "    else:\n",
    "        rentpred = \"This price does not seem reasonable, try to talk with the landlord\"\n",
    "    return render_template('index2.html',\n",
    "                           rental_prediction=rentpred)\n"
   ]
  },
  {
   "cell_type": "code",
   "execution_count": null,
   "id": "4e7272d7",
   "metadata": {},
   "outputs": [
    {
     "name": "stdout",
     "output_type": "stream",
     "text": [
      " * Serving Flask app '__main__'\n",
      " * Debug mode: off\n"
     ]
    },
    {
     "name": "stderr",
     "output_type": "stream",
     "text": [
      "WARNING: This is a development server. Do not use it in a production deployment. Use a production WSGI server instead.\n",
      " * Running on http://127.0.0.1:5000\n",
      "Press CTRL+C to quit\n",
      "127.0.0.1 - - [24/Jun/2023 15:55:36] \"GET / HTTP/1.1\" 200 -\n",
      "127.0.0.1 - - [24/Jun/2023 15:55:36] \"GET /static/bg-pic.jpeg HTTP/1.1\" 200 -\n",
      "127.0.0.1 - - [24/Jun/2023 15:55:36] \"GET /favicon.ico HTTP/1.1\" 404 -\n",
      "C:\\Users\\mrhar\\AppData\\Roaming\\Python\\Python311\\site-packages\\sklearn\\base.py:420: UserWarning: X does not have valid feature names, but GradientBoostingClassifier was fitted with feature names\n",
      "  warnings.warn(\n",
      "127.0.0.1 - - [24/Jun/2023 15:56:00] \"POST /predict HTTP/1.1\" 200 -\n",
      "127.0.0.1 - - [24/Jun/2023 15:56:00] \"GET /static/bg-pic.jpeg HTTP/1.1\" 304 -\n"
     ]
    }
   ],
   "source": [
    "if __name__ == \"__main__\":\n",
    "    app.run(debug=False)"
   ]
  },
  {
   "cell_type": "code",
   "execution_count": null,
   "id": "2990d87e",
   "metadata": {},
   "outputs": [],
   "source": []
  }
 ],
 "metadata": {
  "kernelspec": {
   "display_name": "Python 3 (ipykernel)",
   "language": "python",
   "name": "python3"
  },
  "language_info": {
   "codemirror_mode": {
    "name": "ipython",
    "version": 3
   },
   "file_extension": ".py",
   "mimetype": "text/x-python",
   "name": "python",
   "nbconvert_exporter": "python",
   "pygments_lexer": "ipython3",
   "version": "3.11.1"
  }
 },
 "nbformat": 4,
 "nbformat_minor": 5
}
